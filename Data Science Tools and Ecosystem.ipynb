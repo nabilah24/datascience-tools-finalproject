{
  "metadata": {
    "kernelspec": {
      "name": "python",
      "display_name": "Python (Pyodide)",
      "language": "python"
    },
    "language_info": {
      "codemirror_mode": {
        "name": "python",
        "version": 3
      },
      "file_extension": ".py",
      "mimetype": "text/x-python",
      "name": "python",
      "nbconvert_exporter": "python",
      "pygments_lexer": "ipython3",
      "version": "3.8"
    }
  },
  "nbformat_minor": 4,
  "nbformat": 4,
  "cells": [
    {
      "cell_type": "markdown",
      "source": "# Data Science Tools and Ecosystem",
      "metadata": {}
    },
    {
      "cell_type": "markdown",
      "source": "**In this notebook, Data Science Tools and Ecosystem are summarized.**",
      "metadata": {}
    },
    {
      "cell_type": "markdown",
      "source": "Some of the popular languages that Data Scientists use are:\n\n1. Python  \n2. R  \n3. SQL  \n4. Java  \n5. Julia  \n6. Scala  ",
      "metadata": {}
    },
    {
      "cell_type": "markdown",
      "source": "Some of the commonly used libraries used by Data Scientists include:\n\n- Pandas  \n- NumPy  \n- Matplotlib  \n- Scikit-learn  \n- TensorFlow  \n- ggplot2  ",
      "metadata": {}
    },
    {
      "cell_type": "markdown",
      "source": "| Data Science Tools     | Description                       |\n|------------------------|-----------------------------------|\n| Jupyter Notebook       | Interactive computing environment |\n| RStudio                | IDE for R programming             |\n| Apache Spark           | Big data processing framework     |\n| TensorFlow             | Deep learning framework           |\n| VS Code                | Code editor with DS extensions    |\n",
      "metadata": {}
    },
    {
      "cell_type": "markdown",
      "source": "### Below are a few examples of evaluating arithmetic expressions in Python.",
      "metadata": {}
    },
    {
      "cell_type": "code",
      "source": "# This is a simple arithmetic expression to multiply then add integers\n(3 * 4) + 5",
      "metadata": {
        "trusted": true
      },
      "outputs": [
        {
          "execution_count": 2,
          "output_type": "execute_result",
          "data": {
            "text/plain": "17"
          },
          "metadata": {}
        }
      ],
      "execution_count": 2
    },
    {
      "cell_type": "code",
      "source": "# This will convert 150 minutes to hours \nminutes = 150\nhours = minutes / 60\nhours",
      "metadata": {
        "trusted": true
      },
      "outputs": [
        {
          "execution_count": 4,
          "output_type": "execute_result",
          "data": {
            "text/plain": "2.5"
          },
          "metadata": {}
        }
      ],
      "execution_count": 4
    },
    {
      "cell_type": "markdown",
      "source": "## Objectives\n\nIn this notebook, you will learn how to:\n\n- Identify popular data science languages\n- List commonly used data science libraries\n- Understand arithmetic operations using code\n- Convert units using Python",
      "metadata": {}
    },
    {
      "cell_type": "markdown",
      "source": "## Author\n\nNabilah Zakiyah Salmaa Firdaus",
      "metadata": {}
    }
  ]
}